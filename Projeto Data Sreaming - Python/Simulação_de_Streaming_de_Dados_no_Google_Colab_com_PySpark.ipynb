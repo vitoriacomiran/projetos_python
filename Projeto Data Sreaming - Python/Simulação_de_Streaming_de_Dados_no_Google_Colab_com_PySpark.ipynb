{
  "nbformat": 4,
  "nbformat_minor": 0,
  "metadata": {
    "colab": {
      "provenance": [],
      "authorship_tag": "ABX9TyOXjSJ0wPa8iweW+tIexC+4",
      "include_colab_link": true
    },
    "kernelspec": {
      "name": "python3",
      "display_name": "Python 3"
    },
    "language_info": {
      "name": "python"
    }
  },
  "cells": [
    {
      "cell_type": "markdown",
      "metadata": {
        "id": "view-in-github",
        "colab_type": "text"
      },
      "source": [
        "<a href=\"https://colab.research.google.com/github/vitoriacmn/IA_python/blob/main/Simula%C3%A7%C3%A3o_de_Streaming_de_Dados_no_Google_Colab_com_PySpark.ipynb\" target=\"_parent\"><img src=\"https://colab.research.google.com/assets/colab-badge.svg\" alt=\"Open In Colab\"/></a>"
      ]
    },
    {
      "cell_type": "code",
      "execution_count": 1,
      "metadata": {
        "colab": {
          "base_uri": "https://localhost:8080/"
        },
        "id": "KnICHU_6u9od",
        "outputId": "b4762c9f-caf2-4d0e-b6f2-53cc1e71e6c8"
      },
      "outputs": [
        {
          "output_type": "stream",
          "name": "stdout",
          "text": [
            "Requirement already satisfied: pyspark in /usr/local/lib/python3.11/dist-packages (3.5.5)\n",
            "Requirement already satisfied: py4j==0.10.9.7 in /usr/local/lib/python3.11/dist-packages (from pyspark) (0.10.9.7)\n"
          ]
        }
      ],
      "source": [
        "!pip install pyspark\n"
      ]
    },
    {
      "cell_type": "code",
      "source": [
        "import json\n",
        "import time"
      ],
      "metadata": {
        "id": "toRbdRm0veOu"
      },
      "execution_count": 2,
      "outputs": []
    },
    {
      "cell_type": "code",
      "source": [
        "def gerar_dados_simulados():\n",
        "    eventos = [\n",
        "      {\"id_transacao\": 1, \"status\": \"concluida\", \"valor\": 100.0,\n",
        "      \"timestamp\": \"2024-12-12T12:00:00Z\"}, {\"id_transacao\": 2, \"status\": \"erro\", \"valor\": 200.0,\n",
        "      \"timestamp\": \"2024-12-12T12:01:00Z\"}, {\"id_transacao\": 3, \"status\": \"concluida\", \"valor\": 300.0,\n",
        "      \"timestamp\": \"2024-12-12T12:02:00Z\"}\n",
        "    ]\n",
        "    for evento in eventos:\n",
        "      print(json.dumps(evento))\n",
        "      time.sleep(1) # Simulando um intervalo entre eventos\n",
        "gerar_dados_simulados()\n"
      ],
      "metadata": {
        "colab": {
          "base_uri": "https://localhost:8080/"
        },
        "id": "1thn1lLjvlxF",
        "outputId": "8efac91f-83a6-4f91-a1cc-8cd86a354bab"
      },
      "execution_count": 5,
      "outputs": [
        {
          "output_type": "stream",
          "name": "stdout",
          "text": [
            "{\"id_transacao\": 1, \"status\": \"concluida\", \"valor\": 100.0, \"timestamp\": \"2024-12-12T12:00:00Z\"}\n",
            "{\"id_transacao\": 2, \"status\": \"erro\", \"valor\": 200.0, \"timestamp\": \"2024-12-12T12:01:00Z\"}\n",
            "{\"id_transacao\": 3, \"status\": \"concluida\", \"valor\": 300.0, \"timestamp\": \"2024-12-12T12:02:00Z\"}\n"
          ]
        }
      ]
    },
    {
      "cell_type": "code",
      "source": [
        "from pyspark.sql import SparkSession\n",
        "from pyspark.sql.functions import col\n",
        "# Configuração do Spark\n",
        "spark = SparkSession.builder.appName(\"SimulacaoStreaming\").getOrCreate()\n",
        "# Dados simulados\n",
        "dados = [\n",
        "{\"id_transacao\": 1, \"status\": \"concluida\", \"valor\": 100.0,\n",
        "\"timestamp\": \"2024-12-12T12:00:00Z\"},\n",
        "{\"id_transacao\": 2, \"status\": \"erro\", \"valor\": 200.0, \"timestamp\":\n",
        "\"2024-12-12T12:01:00Z\"},\n",
        "{\"id_transacao\": 3, \"status\": \"concluida\", \"valor\": 300.0,\n",
        "\"timestamp\": \"2024-12-12T12:02:00Z\"}\n",
        "]\n",
        "df = spark.createDataFrame(dados)\n",
        "# Transformação: Filtrar apenas transações concluídas\n",
        "df_concluidas = df.filter(col(\"status\") == \"concluida\")\n",
        "df_concluidas.show()\n"
      ],
      "metadata": {
        "colab": {
          "base_uri": "https://localhost:8080/"
        },
        "id": "dmL_sH0swOKL",
        "outputId": "3e379508-495d-4569-cfe0-ccd4a52e2d6c"
      },
      "execution_count": 6,
      "outputs": [
        {
          "output_type": "stream",
          "name": "stdout",
          "text": [
            "+------------+---------+--------------------+-----+\n",
            "|id_transacao|   status|           timestamp|valor|\n",
            "+------------+---------+--------------------+-----+\n",
            "|           1|concluida|2024-12-12T12:00:00Z|100.0|\n",
            "|           3|concluida|2024-12-12T12:02:00Z|300.0|\n",
            "+------------+---------+--------------------+-----+\n",
            "\n"
          ]
        }
      ]
    },
    {
      "cell_type": "code",
      "source": [
        "from pyspark.sql.functions import sum as _sum\n",
        "from pyspark.sql.types import StructType, StructField, IntegerType, StringType, DoubleType\n",
        "df_total = df_concluidas.agg(_sum(\"valor\").alias(\"total_valor\"))\n",
        "df_total.show()\n"
      ],
      "metadata": {
        "colab": {
          "base_uri": "https://localhost:8080/"
        },
        "id": "CnEL3SOyxUGV",
        "outputId": "92218377-1f1a-4b44-8305-bcaa9315252d"
      },
      "execution_count": 12,
      "outputs": [
        {
          "output_type": "stream",
          "name": "stdout",
          "text": [
            "+-----------+\n",
            "|total_valor|\n",
            "+-----------+\n",
            "|      400.0|\n",
            "+-----------+\n",
            "\n"
          ]
        }
      ]
    },
    {
      "cell_type": "code",
      "source": [
        "df_total.coalesce(1).write.mode(\"overwrite\").csv(\"resultado_transacoes\")\n"
      ],
      "metadata": {
        "id": "X4yb3t3lzwzT"
      },
      "execution_count": 13,
      "outputs": []
    },
    {
      "cell_type": "code",
      "source": [
        "import shutil\n",
        "shutil.move(\"/content/resultado_transacoes/part-00000-0776b548-5b20-406d-b5d1-e061de2b1296-c000.csv\", \"total_transacoes.csv\")"
      ],
      "metadata": {
        "colab": {
          "base_uri": "https://localhost:8080/",
          "height": 35
        },
        "id": "-SeCB5fa0HmV",
        "outputId": "1c32aaa0-8c2e-414c-87c0-fd805e9dfcc7"
      },
      "execution_count": 15,
      "outputs": [
        {
          "output_type": "execute_result",
          "data": {
            "text/plain": [
              "'total_transacoes.csv'"
            ],
            "application/vnd.google.colaboratory.intrinsic+json": {
              "type": "string"
            }
          },
          "metadata": {},
          "execution_count": 15
        }
      ]
    }
  ]
}